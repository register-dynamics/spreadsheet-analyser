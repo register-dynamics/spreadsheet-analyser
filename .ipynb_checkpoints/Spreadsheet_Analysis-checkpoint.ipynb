{
 "cells": [
  {
   "cell_type": "markdown",
   "id": "6fbff7f9-041f-4f08-b5cf-a295850b27dd",
   "metadata": {},
   "source": [
    "# Spreadsheet Analysis"
   ]
  },
  {
   "cell_type": "code",
   "execution_count": 1,
   "id": "4d2c09fd-0db4-45b6-8a4f-cd6d0bfe0fa8",
   "metadata": {},
   "outputs": [],
   "source": [
    "import requests\n",
    "import tempfile\n",
    "import string\n",
    "import re\n",
    "import sys\n",
    "import time\n",
    "import json\n",
    "import os\n",
    "import csv\n",
    "from urllib.parse import urlparse\n",
    "from random import sample\n",
    "from IPython.display import display, Markdown\n",
    "import pandas as pd\n",
    "import numpy as np\n",
    "import glob\n",
    "import matplotlib.pyplot as plt\n"
   ]
  },
  {
   "cell_type": "code",
   "execution_count": null,
   "id": "e61835cf-6a94-418e-8664-f348daced4dd",
   "metadata": {},
   "outputs": [],
   "source": []
  }
 ],
 "metadata": {
  "kernelspec": {
   "display_name": "Python 3 (ipykernel)",
   "language": "python",
   "name": "python3"
  },
  "language_info": {
   "codemirror_mode": {
    "name": "ipython",
    "version": 3
   },
   "file_extension": ".py",
   "mimetype": "text/x-python",
   "name": "python",
   "nbconvert_exporter": "python",
   "pygments_lexer": "ipython3",
   "version": "3.12.4"
  }
 },
 "nbformat": 4,
 "nbformat_minor": 5
}
